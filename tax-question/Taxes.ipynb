{
 "cells": [
  {
   "cell_type": "code",
   "execution_count": null,
   "metadata": {},
   "outputs": [],
   "source": [
    "def calculateFederalTax(income):\n",
    "    taxBrackets = [47630, 95259, 147667, 210371]\n",
    "    taxRates = [.15, .205, .26, .29, .33]\n",
    "    taxes = []\n",
    "    for i in range(0, len(taxBrackets)):\n",
    "        taxes.append(taxBrackets[i] * taxRates[i])\n",
    "    if income < taxBrackets[0]:\n",
    "        tax = income * taxRates[0]\n",
    "    elif income < taxBrackets[1]:\n",
    "        tax = taxes[0] + (income - taxBrackets[0]) * taxRates[1]\n",
    "    elif income < taxBrackets[2]:\n",
    "        tax = taxes[1] + (income - taxBrackets[1]) * taxRates[2]\n",
    "    elif income < taxBrackets[3]:\n",
    "        tax = taxes[2] + (income - taxBrackets[2]) * taxRates[3]\n",
    "    else:\n",
    "        tax = taxes[3] + (income - taxBrackets[3]) * taxRates[4]\n",
    "    return tax\n",
    "\n",
    "def calculateProvincialTax(income):\n",
    "    taxBrackets = [131220, 157464, 209952, 314928] # for Alberta\n",
    "    taxRates = [.1, .12, .13, .14, .15]\n",
    "    taxes = []\n",
    "    for i in range(0, len(taxBrackets)):\n",
    "        taxes.append(taxBrackets[i] * taxRates[i])\n",
    "    if income < taxBrackets[0]:\n",
    "        tax = income * taxRates[0]\n",
    "    elif income < taxBrackets[1]:\n",
    "        tax = taxes[0] + (income - taxBrackets[0]) * taxRates[1]\n",
    "    elif income < taxBrackets[2]:\n",
    "        tax = taxes[1] + (income - taxBrackets[1]) * taxRates[2]\n",
    "    elif income < taxBrackets[3]:\n",
    "        tax = taxes[2] + (income - taxBrackets[2]) * taxRates[3]\n",
    "    else:\n",
    "        tax = taxes[3] + (income - taxBrackets[3]) * taxRates[4]\n",
    "    return tax\n",
    "\n",
    "\n",
    "wages = []\n",
    "grossIncomes = []\n",
    "netIncomes = []\n",
    "incomeTaxes = []\n",
    "\n",
    "for wage in range(1, 200):\n",
    "    wages.append(wage)\n",
    "    grossAnnualIncome = wage * 8 * 240\n",
    "    grossIncomes.append(grossAnnualIncome)\n",
    "    incomeTax = calculateFederalTax(grossAnnualIncome) + calculateProvincialTax(grossAnnualIncome)\n",
    "    netIncome = grossAnnualIncome - incomeTax\n",
    "    incomeTaxes.append(incomeTax)\n",
    "    netIncomes.append(netIncome)\n",
    "\n",
    "import plotly.graph_objects as go\n",
    "fig = go.Figure()\n",
    "fig.add_trace(go.Scatter(x=grossIncomes, y=grossIncomes, name='Gross Income'))\n",
    "fig.add_trace(go.Scatter(x=grossIncomes, y=netIncomes, name='Net Income'))\n",
    "fig.add_trace(go.Scatter(x=grossIncomes, y=incomeTaxes, name='Income Tax'))\n",
    "fig.show()\n"
   ]
  },
  {
   "cell_type": "code",
   "execution_count": null,
   "metadata": {},
   "outputs": [],
   "source": []
  }
 ],
 "metadata": {
  "kernelspec": {
   "display_name": "Python 3",
   "language": "python",
   "name": "python3"
  },
  "language_info": {
   "codemirror_mode": {
    "name": "ipython",
    "version": 3
   },
   "file_extension": ".py",
   "mimetype": "text/x-python",
   "name": "python",
   "nbconvert_exporter": "python",
   "pygments_lexer": "ipython3",
   "version": "3.7.4"
  }
 },
 "nbformat": 4,
 "nbformat_minor": 2
}
